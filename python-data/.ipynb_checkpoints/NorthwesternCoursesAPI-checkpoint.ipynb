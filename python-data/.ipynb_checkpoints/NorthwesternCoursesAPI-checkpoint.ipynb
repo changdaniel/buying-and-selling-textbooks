{
 "cells": [
  {
   "cell_type": "code",
   "execution_count": 10,
   "metadata": {},
   "outputs": [
    {
     "name": "stdout",
     "output_type": "stream",
     "text": [
      "[]\n"
     ]
    }
   ],
   "source": [
    "import requests\n",
    "import json\n",
    "from pprint import pprint\n",
    "\n",
    "params = {'key': 'JC3v77yRGJzdrHNn',\n",
    "          'id': '78818',\n",
    "          'term' : '4530'\n",
    "\n",
    "}\n",
    "response = requests.get('http://api.asg.northwestern.edu/courses/details/?key=YOUR_KEY'\n",
    ", params=params)\n",
    "\n",
    "json_data = json.loads(response.text)\n",
    "\n",
    "pprint(json_data)\n"
   ]
  },
  {
   "cell_type": "code",
   "execution_count": null,
   "metadata": {},
   "outputs": [],
   "source": []
  }
 ],
 "metadata": {
  "kernelspec": {
   "display_name": "Python 3",
   "language": "python",
   "name": "python3"
  },
  "language_info": {
   "codemirror_mode": {
    "name": "ipython",
    "version": 3
   },
   "file_extension": ".py",
   "mimetype": "text/x-python",
   "name": "python",
   "nbconvert_exporter": "python",
   "pygments_lexer": "ipython3",
   "version": "3.6.5"
  }
 },
 "nbformat": 4,
 "nbformat_minor": 2
}
